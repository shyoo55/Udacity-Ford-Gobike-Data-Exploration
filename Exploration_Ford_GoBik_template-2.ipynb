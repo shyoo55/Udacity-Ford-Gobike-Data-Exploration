{
  "nbformat": 4,
  "nbformat_minor": 0,
  "metadata": {
    "kernelspec": {
      "display_name": "Python [default]",
      "language": "python",
      "name": "python3"
    },
    "language_info": {
      "codemirror_mode": {
        "name": "ipython",
        "version": 3
      },
      "file_extension": ".py",
      "mimetype": "text/x-python",
      "name": "python",
      "nbconvert_exporter": "python",
      "pygments_lexer": "ipython3",
      "version": "3.5.3"
    },
    "colab": {
      "name": "Exploration_Ford_GoBik_template.ipynb",
      "provenance": [],
      "collapsed_sections": []
    }
  },
  "cells": [
    {
      "cell_type": "markdown",
      "metadata": {
        "id": "bd0y0tKr3RKC"
      },
      "source": [
        "# (Ford Gobike Data Exploration)\n",
        "## by (Shaikha Bin Ateeq)\n",
        "\n",
        "## Preliminary Wrangling\n",
        "\n",
        "> This document investigates a dataset including about 183,412 trips from a Ford Gobike.\n"
      ]
    },
    {
      "cell_type": "code",
      "metadata": {
        "id": "8ZpYgJzz3RKD"
      },
      "source": [
        "# import all packages and set plots to be embedded inline\n",
        "import numpy as np\n",
        "import pandas as pd\n",
        "import matplotlib.pyplot as plt\n",
        "import seaborn as sb\n",
        "import seaborn as sns\n",
        "%matplotlib inline"
      ],
      "execution_count": 1,
      "outputs": []
    },
    {
      "cell_type": "markdown",
      "metadata": {
        "id": "p2CjehLV3RKD"
      },
      "source": [
        "> Load in your dataset and describe its properties through the questions below.\n",
        "Try and motivate your exploration goals through this section."
      ]
    },
    {
      "cell_type": "markdown",
      "metadata": {
        "id": "5yaT0dMM5Ihg"
      },
      "source": [
        "**load the Data and Data Assessment**"
      ]
    },
    {
      "cell_type": "code",
      "metadata": {
        "colab": {
          "base_uri": "https://localhost:8080/",
          "height": 336
        },
        "id": "MA1C2yfc5QyL",
        "outputId": "a1afbf62-61ee-44d6-f2c5-74658774f4a0"
      },
      "source": [
        "# load in the dataset into a pandas data \n",
        "data = pd.read_csv('/content/Ford-Gobike-Data-Exploration.csv')\n",
        "data.head()"
      ],
      "execution_count": 7,
      "outputs": [
        {
          "output_type": "execute_result",
          "data": {
            "text/html": [
              "<div>\n",
              "<style scoped>\n",
              "    .dataframe tbody tr th:only-of-type {\n",
              "        vertical-align: middle;\n",
              "    }\n",
              "\n",
              "    .dataframe tbody tr th {\n",
              "        vertical-align: top;\n",
              "    }\n",
              "\n",
              "    .dataframe thead th {\n",
              "        text-align: right;\n",
              "    }\n",
              "</style>\n",
              "<table border=\"1\" class=\"dataframe\">\n",
              "  <thead>\n",
              "    <tr style=\"text-align: right;\">\n",
              "      <th></th>\n",
              "      <th>duration_sec</th>\n",
              "      <th>start_time</th>\n",
              "      <th>end_time</th>\n",
              "      <th>start_station_id</th>\n",
              "      <th>start_station_name</th>\n",
              "      <th>start_station_latitude</th>\n",
              "      <th>start_station_longitude</th>\n",
              "      <th>end_station_id</th>\n",
              "      <th>end_station_name</th>\n",
              "      <th>end_station_latitude</th>\n",
              "      <th>end_station_longitude</th>\n",
              "      <th>bike_id</th>\n",
              "      <th>user_type</th>\n",
              "      <th>member_birth_year</th>\n",
              "      <th>member_gender</th>\n",
              "      <th>bike_share_for_all_trip</th>\n",
              "    </tr>\n",
              "  </thead>\n",
              "  <tbody>\n",
              "    <tr>\n",
              "      <th>0</th>\n",
              "      <td>52185</td>\n",
              "      <td>2019-02-28 17:32:10.1450</td>\n",
              "      <td>2019-03-01 08:01:55.9750</td>\n",
              "      <td>21.0</td>\n",
              "      <td>Montgomery St BART Station (Market St at 2nd St)</td>\n",
              "      <td>37.789625</td>\n",
              "      <td>-122.400811</td>\n",
              "      <td>13.0</td>\n",
              "      <td>Commercial St at Montgomery St</td>\n",
              "      <td>37.794231</td>\n",
              "      <td>-122.402923</td>\n",
              "      <td>4902</td>\n",
              "      <td>Customer</td>\n",
              "      <td>1984.0</td>\n",
              "      <td>Male</td>\n",
              "      <td>No</td>\n",
              "    </tr>\n",
              "    <tr>\n",
              "      <th>1</th>\n",
              "      <td>42521</td>\n",
              "      <td>2019-02-28 18:53:21.7890</td>\n",
              "      <td>2019-03-01 06:42:03.0560</td>\n",
              "      <td>23.0</td>\n",
              "      <td>The Embarcadero at Steuart St</td>\n",
              "      <td>37.791464</td>\n",
              "      <td>-122.391034</td>\n",
              "      <td>81.0</td>\n",
              "      <td>Berry St at 4th St</td>\n",
              "      <td>37.775880</td>\n",
              "      <td>-122.393170</td>\n",
              "      <td>2535</td>\n",
              "      <td>Customer</td>\n",
              "      <td>NaN</td>\n",
              "      <td>NaN</td>\n",
              "      <td>No</td>\n",
              "    </tr>\n",
              "    <tr>\n",
              "      <th>2</th>\n",
              "      <td>61854</td>\n",
              "      <td>2019-02-28 12:13:13.2180</td>\n",
              "      <td>2019-03-01 05:24:08.1460</td>\n",
              "      <td>86.0</td>\n",
              "      <td>Market St at Dolores St</td>\n",
              "      <td>37.769305</td>\n",
              "      <td>-122.426826</td>\n",
              "      <td>3.0</td>\n",
              "      <td>Powell St BART Station (Market St at 4th St)</td>\n",
              "      <td>37.786375</td>\n",
              "      <td>-122.404904</td>\n",
              "      <td>5905</td>\n",
              "      <td>Customer</td>\n",
              "      <td>1972.0</td>\n",
              "      <td>Male</td>\n",
              "      <td>No</td>\n",
              "    </tr>\n",
              "    <tr>\n",
              "      <th>3</th>\n",
              "      <td>36490</td>\n",
              "      <td>2019-02-28 17:54:26.0100</td>\n",
              "      <td>2019-03-01 04:02:36.8420</td>\n",
              "      <td>375.0</td>\n",
              "      <td>Grove St at Masonic Ave</td>\n",
              "      <td>37.774836</td>\n",
              "      <td>-122.446546</td>\n",
              "      <td>70.0</td>\n",
              "      <td>Central Ave at Fell St</td>\n",
              "      <td>37.773311</td>\n",
              "      <td>-122.444293</td>\n",
              "      <td>6638</td>\n",
              "      <td>Subscriber</td>\n",
              "      <td>1989.0</td>\n",
              "      <td>Other</td>\n",
              "      <td>No</td>\n",
              "    </tr>\n",
              "    <tr>\n",
              "      <th>4</th>\n",
              "      <td>1585</td>\n",
              "      <td>2019-02-28 23:54:18.5490</td>\n",
              "      <td>2019-03-01 00:20:44.0740</td>\n",
              "      <td>7.0</td>\n",
              "      <td>Frank H Ogawa Plaza</td>\n",
              "      <td>37.804562</td>\n",
              "      <td>-122.271738</td>\n",
              "      <td>222.0</td>\n",
              "      <td>10th Ave at E 15th St</td>\n",
              "      <td>37.792714</td>\n",
              "      <td>-122.248780</td>\n",
              "      <td>4898</td>\n",
              "      <td>Subscriber</td>\n",
              "      <td>1974.0</td>\n",
              "      <td>Male</td>\n",
              "      <td>Yes</td>\n",
              "    </tr>\n",
              "  </tbody>\n",
              "</table>\n",
              "</div>"
            ],
            "text/plain": [
              "   duration_sec                start_time  ... member_gender  bike_share_for_all_trip\n",
              "0         52185  2019-02-28 17:32:10.1450  ...          Male                       No\n",
              "1         42521  2019-02-28 18:53:21.7890  ...           NaN                       No\n",
              "2         61854  2019-02-28 12:13:13.2180  ...          Male                       No\n",
              "3         36490  2019-02-28 17:54:26.0100  ...         Other                       No\n",
              "4          1585  2019-02-28 23:54:18.5490  ...          Male                      Yes\n",
              "\n",
              "[5 rows x 16 columns]"
            ]
          },
          "metadata": {},
          "execution_count": 7
        }
      ]
    },
    {
      "cell_type": "code",
      "metadata": {
        "colab": {
          "base_uri": "https://localhost:8080/"
        },
        "id": "SUYkSbuv5Q3s",
        "outputId": "c1fbd2c8-da6f-4ad6-b634-41ac3ffed16b"
      },
      "source": [
        "# overview of data shape and data types\n",
        "print(data.shape)\n",
        "print(data.dtypes)"
      ],
      "execution_count": 8,
      "outputs": [
        {
          "output_type": "stream",
          "text": [
            "(183412, 16)\n",
            "duration_sec                 int64\n",
            "start_time                  object\n",
            "end_time                    object\n",
            "start_station_id           float64\n",
            "start_station_name          object\n",
            "start_station_latitude     float64\n",
            "start_station_longitude    float64\n",
            "end_station_id             float64\n",
            "end_station_name            object\n",
            "end_station_latitude       float64\n",
            "end_station_longitude      float64\n",
            "bike_id                      int64\n",
            "user_type                   object\n",
            "member_birth_year          float64\n",
            "member_gender               object\n",
            "bike_share_for_all_trip     object\n",
            "dtype: object\n"
          ],
          "name": "stdout"
        }
      ]
    },
    {
      "cell_type": "code",
      "metadata": {
        "colab": {
          "base_uri": "https://localhost:8080/",
          "height": 311
        },
        "id": "5Q_L_yVM5Q-h",
        "outputId": "988de987-c531-4ece-fff3-febbbbb7eccc"
      },
      "source": [
        "# the descriptive statistics of the data\n",
        "data.describe()"
      ],
      "execution_count": 9,
      "outputs": [
        {
          "output_type": "execute_result",
          "data": {
            "text/html": [
              "<div>\n",
              "<style scoped>\n",
              "    .dataframe tbody tr th:only-of-type {\n",
              "        vertical-align: middle;\n",
              "    }\n",
              "\n",
              "    .dataframe tbody tr th {\n",
              "        vertical-align: top;\n",
              "    }\n",
              "\n",
              "    .dataframe thead th {\n",
              "        text-align: right;\n",
              "    }\n",
              "</style>\n",
              "<table border=\"1\" class=\"dataframe\">\n",
              "  <thead>\n",
              "    <tr style=\"text-align: right;\">\n",
              "      <th></th>\n",
              "      <th>duration_sec</th>\n",
              "      <th>start_station_id</th>\n",
              "      <th>start_station_latitude</th>\n",
              "      <th>start_station_longitude</th>\n",
              "      <th>end_station_id</th>\n",
              "      <th>end_station_latitude</th>\n",
              "      <th>end_station_longitude</th>\n",
              "      <th>bike_id</th>\n",
              "      <th>member_birth_year</th>\n",
              "    </tr>\n",
              "  </thead>\n",
              "  <tbody>\n",
              "    <tr>\n",
              "      <th>count</th>\n",
              "      <td>183412.000000</td>\n",
              "      <td>183215.000000</td>\n",
              "      <td>183412.000000</td>\n",
              "      <td>183412.000000</td>\n",
              "      <td>183215.000000</td>\n",
              "      <td>183412.000000</td>\n",
              "      <td>183412.000000</td>\n",
              "      <td>183412.000000</td>\n",
              "      <td>175147.000000</td>\n",
              "    </tr>\n",
              "    <tr>\n",
              "      <th>mean</th>\n",
              "      <td>726.078435</td>\n",
              "      <td>138.590427</td>\n",
              "      <td>37.771223</td>\n",
              "      <td>-122.352664</td>\n",
              "      <td>136.249123</td>\n",
              "      <td>37.771427</td>\n",
              "      <td>-122.352250</td>\n",
              "      <td>4472.906375</td>\n",
              "      <td>1984.806437</td>\n",
              "    </tr>\n",
              "    <tr>\n",
              "      <th>std</th>\n",
              "      <td>1794.389780</td>\n",
              "      <td>111.778864</td>\n",
              "      <td>0.099581</td>\n",
              "      <td>0.117097</td>\n",
              "      <td>111.515131</td>\n",
              "      <td>0.099490</td>\n",
              "      <td>0.116673</td>\n",
              "      <td>1664.383394</td>\n",
              "      <td>10.116689</td>\n",
              "    </tr>\n",
              "    <tr>\n",
              "      <th>min</th>\n",
              "      <td>61.000000</td>\n",
              "      <td>3.000000</td>\n",
              "      <td>37.317298</td>\n",
              "      <td>-122.453704</td>\n",
              "      <td>3.000000</td>\n",
              "      <td>37.317298</td>\n",
              "      <td>-122.453704</td>\n",
              "      <td>11.000000</td>\n",
              "      <td>1878.000000</td>\n",
              "    </tr>\n",
              "    <tr>\n",
              "      <th>25%</th>\n",
              "      <td>325.000000</td>\n",
              "      <td>47.000000</td>\n",
              "      <td>37.770083</td>\n",
              "      <td>-122.412408</td>\n",
              "      <td>44.000000</td>\n",
              "      <td>37.770407</td>\n",
              "      <td>-122.411726</td>\n",
              "      <td>3777.000000</td>\n",
              "      <td>1980.000000</td>\n",
              "    </tr>\n",
              "    <tr>\n",
              "      <th>50%</th>\n",
              "      <td>514.000000</td>\n",
              "      <td>104.000000</td>\n",
              "      <td>37.780760</td>\n",
              "      <td>-122.398285</td>\n",
              "      <td>100.000000</td>\n",
              "      <td>37.781010</td>\n",
              "      <td>-122.398279</td>\n",
              "      <td>4958.000000</td>\n",
              "      <td>1987.000000</td>\n",
              "    </tr>\n",
              "    <tr>\n",
              "      <th>75%</th>\n",
              "      <td>796.000000</td>\n",
              "      <td>239.000000</td>\n",
              "      <td>37.797280</td>\n",
              "      <td>-122.286533</td>\n",
              "      <td>235.000000</td>\n",
              "      <td>37.797320</td>\n",
              "      <td>-122.288045</td>\n",
              "      <td>5502.000000</td>\n",
              "      <td>1992.000000</td>\n",
              "    </tr>\n",
              "    <tr>\n",
              "      <th>max</th>\n",
              "      <td>85444.000000</td>\n",
              "      <td>398.000000</td>\n",
              "      <td>37.880222</td>\n",
              "      <td>-121.874119</td>\n",
              "      <td>398.000000</td>\n",
              "      <td>37.880222</td>\n",
              "      <td>-121.874119</td>\n",
              "      <td>6645.000000</td>\n",
              "      <td>2001.000000</td>\n",
              "    </tr>\n",
              "  </tbody>\n",
              "</table>\n",
              "</div>"
            ],
            "text/plain": [
              "        duration_sec  start_station_id  ...        bike_id  member_birth_year\n",
              "count  183412.000000     183215.000000  ...  183412.000000      175147.000000\n",
              "mean      726.078435        138.590427  ...    4472.906375        1984.806437\n",
              "std      1794.389780        111.778864  ...    1664.383394          10.116689\n",
              "min        61.000000          3.000000  ...      11.000000        1878.000000\n",
              "25%       325.000000         47.000000  ...    3777.000000        1980.000000\n",
              "50%       514.000000        104.000000  ...    4958.000000        1987.000000\n",
              "75%       796.000000        239.000000  ...    5502.000000        1992.000000\n",
              "max     85444.000000        398.000000  ...    6645.000000        2001.000000\n",
              "\n",
              "[8 rows x 9 columns]"
            ]
          },
          "metadata": {},
          "execution_count": 9
        }
      ]
    },
    {
      "cell_type": "code",
      "metadata": {
        "colab": {
          "base_uri": "https://localhost:8080/"
        },
        "id": "abSGIZWo5O7i",
        "outputId": "576ef1e6-5323-46e0-c759-e1e36c60914b"
      },
      "source": [
        "# Check  duplicates \n",
        "print(data.duplicated().sum())"
      ],
      "execution_count": 10,
      "outputs": [
        {
          "output_type": "stream",
          "text": [
            "0\n"
          ],
          "name": "stdout"
        }
      ]
    },
    {
      "cell_type": "code",
      "metadata": {
        "colab": {
          "base_uri": "https://localhost:8080/"
        },
        "id": "EtJaq9fk3RKE",
        "outputId": "d7dfddfd-6c97-477c-818d-9c60e37188e8"
      },
      "source": [
        "# Check  nulls \n",
        "data.isnull().sum()"
      ],
      "execution_count": 11,
      "outputs": [
        {
          "output_type": "execute_result",
          "data": {
            "text/plain": [
              "duration_sec                  0\n",
              "start_time                    0\n",
              "end_time                      0\n",
              "start_station_id            197\n",
              "start_station_name          197\n",
              "start_station_latitude        0\n",
              "start_station_longitude       0\n",
              "end_station_id              197\n",
              "end_station_name            197\n",
              "end_station_latitude          0\n",
              "end_station_longitude         0\n",
              "bike_id                       0\n",
              "user_type                     0\n",
              "member_birth_year          8265\n",
              "member_gender              8265\n",
              "bike_share_for_all_trip       0\n",
              "dtype: int64"
            ]
          },
          "metadata": {},
          "execution_count": 11
        }
      ]
    },
    {
      "cell_type": "code",
      "metadata": {
        "id": "bTvnGQ_fASp4"
      },
      "source": [
        "#create copy of original dataframe\n",
        "df = data.copy()"
      ],
      "execution_count": 12,
      "outputs": []
    },
    {
      "cell_type": "code",
      "metadata": {
        "colab": {
          "base_uri": "https://localhost:8080/"
        },
        "id": "I4p-Qs8F-qiJ",
        "outputId": "b22d36c4-7d92-41b7-c8dd-93d79ee8c533"
      },
      "source": [
        "# Remove rows which not have gender\n",
        "df = df[df['member_gender'].isnull() == False]\n",
        "df.info()"
      ],
      "execution_count": 13,
      "outputs": [
        {
          "output_type": "stream",
          "text": [
            "<class 'pandas.core.frame.DataFrame'>\n",
            "Int64Index: 175147 entries, 0 to 183411\n",
            "Data columns (total 16 columns):\n",
            " #   Column                   Non-Null Count   Dtype  \n",
            "---  ------                   --------------   -----  \n",
            " 0   duration_sec             175147 non-null  int64  \n",
            " 1   start_time               175147 non-null  object \n",
            " 2   end_time                 175147 non-null  object \n",
            " 3   start_station_id         174952 non-null  float64\n",
            " 4   start_station_name       174952 non-null  object \n",
            " 5   start_station_latitude   175147 non-null  float64\n",
            " 6   start_station_longitude  175147 non-null  float64\n",
            " 7   end_station_id           174952 non-null  float64\n",
            " 8   end_station_name         174952 non-null  object \n",
            " 9   end_station_latitude     175147 non-null  float64\n",
            " 10  end_station_longitude    175147 non-null  float64\n",
            " 11  bike_id                  175147 non-null  int64  \n",
            " 12  user_type                175147 non-null  object \n",
            " 13  member_birth_year        175147 non-null  float64\n",
            " 14  member_gender            175147 non-null  object \n",
            " 15  bike_share_for_all_trip  175147 non-null  object \n",
            "dtypes: float64(7), int64(2), object(7)\n",
            "memory usage: 22.7+ MB\n"
          ],
          "name": "stdout"
        }
      ]
    },
    {
      "cell_type": "code",
      "metadata": {
        "colab": {
          "base_uri": "https://localhost:8080/"
        },
        "id": "ax-rIEph-qmP",
        "outputId": "2f750747-f6f5-4ef7-f5ce-a5d64c9375d0"
      },
      "source": [
        "# Remove rows which not have start_station_id\n",
        "df = df[df['start_station_id'].isnull() == False]\n",
        "df.info()"
      ],
      "execution_count": 14,
      "outputs": [
        {
          "output_type": "stream",
          "text": [
            "<class 'pandas.core.frame.DataFrame'>\n",
            "Int64Index: 174952 entries, 0 to 183411\n",
            "Data columns (total 16 columns):\n",
            " #   Column                   Non-Null Count   Dtype  \n",
            "---  ------                   --------------   -----  \n",
            " 0   duration_sec             174952 non-null  int64  \n",
            " 1   start_time               174952 non-null  object \n",
            " 2   end_time                 174952 non-null  object \n",
            " 3   start_station_id         174952 non-null  float64\n",
            " 4   start_station_name       174952 non-null  object \n",
            " 5   start_station_latitude   174952 non-null  float64\n",
            " 6   start_station_longitude  174952 non-null  float64\n",
            " 7   end_station_id           174952 non-null  float64\n",
            " 8   end_station_name         174952 non-null  object \n",
            " 9   end_station_latitude     174952 non-null  float64\n",
            " 10  end_station_longitude    174952 non-null  float64\n",
            " 11  bike_id                  174952 non-null  int64  \n",
            " 12  user_type                174952 non-null  object \n",
            " 13  member_birth_year        174952 non-null  float64\n",
            " 14  member_gender            174952 non-null  object \n",
            " 15  bike_share_for_all_trip  174952 non-null  object \n",
            "dtypes: float64(7), int64(2), object(7)\n",
            "memory usage: 22.7+ MB\n"
          ],
          "name": "stdout"
        }
      ]
    },
    {
      "cell_type": "code",
      "metadata": {
        "colab": {
          "base_uri": "https://localhost:8080/"
        },
        "id": "O2M5Z90C-qqK",
        "outputId": "dadc553e-3775-41f8-daf8-bd09a79cfaea"
      },
      "source": [
        "# Check  nulls \n",
        "df.isnull().sum()"
      ],
      "execution_count": 15,
      "outputs": [
        {
          "output_type": "execute_result",
          "data": {
            "text/plain": [
              "duration_sec               0\n",
              "start_time                 0\n",
              "end_time                   0\n",
              "start_station_id           0\n",
              "start_station_name         0\n",
              "start_station_latitude     0\n",
              "start_station_longitude    0\n",
              "end_station_id             0\n",
              "end_station_name           0\n",
              "end_station_latitude       0\n",
              "end_station_longitude      0\n",
              "bike_id                    0\n",
              "user_type                  0\n",
              "member_birth_year          0\n",
              "member_gender              0\n",
              "bike_share_for_all_trip    0\n",
              "dtype: int64"
            ]
          },
          "metadata": {},
          "execution_count": 15
        }
      ]
    },
    {
      "cell_type": "code",
      "metadata": {
        "id": "dcTvM5HI-quE"
      },
      "source": [
        "# Change start_time and end_time to datetime format\n",
        "df.start_time = pd.to_datetime(df.start_time)\n",
        "df.end_time = pd.to_datetime(df.end_time)"
      ],
      "execution_count": 16,
      "outputs": []
    },
    {
      "cell_type": "code",
      "metadata": {
        "id": "PF-WISNpCL9y"
      },
      "source": [
        "# change  bike_share_for_all_trip  data type to be bool\n",
        "df.bike_share_for_all_trip = (df.bike_share_for_all_trip == 'Yes')"
      ],
      "execution_count": 17,
      "outputs": []
    },
    {
      "cell_type": "code",
      "metadata": {
        "colab": {
          "base_uri": "https://localhost:8080/",
          "height": 336
        },
        "id": "GLXtQcy7NiEZ",
        "outputId": "5fa259a7-af4b-420a-f748-1d1e77b34282"
      },
      "source": [
        "#Add additional columns for trip duration in minutes, trip start date in yyyy-mm-dd format, \n",
        "#trip start hour, day, week, and month.\n",
        "#calculating riders' age from 2019-'member_birth_year'= age \n",
        "\n",
        "df['duration_in_minute'] = df['duration_sec']/60\n",
        "df['start_date'] = df.start_time.dt.strftime('%Y-%m-%d')\n",
        "df['start_hour_of_day'] = df.start_time.dt.strftime('%H')\n",
        "df['start_day_of_week'] = df.start_time.dt.strftime('%A')\n",
        "df['start_month'] = df.start_time.dt.strftime('%B')\n",
        "df['member_age'] = 2019 - df['member_birth_year']\n",
        "\n",
        "\n",
        "df.head()"
      ],
      "execution_count": 18,
      "outputs": [
        {
          "output_type": "execute_result",
          "data": {
            "text/html": [
              "<div>\n",
              "<style scoped>\n",
              "    .dataframe tbody tr th:only-of-type {\n",
              "        vertical-align: middle;\n",
              "    }\n",
              "\n",
              "    .dataframe tbody tr th {\n",
              "        vertical-align: top;\n",
              "    }\n",
              "\n",
              "    .dataframe thead th {\n",
              "        text-align: right;\n",
              "    }\n",
              "</style>\n",
              "<table border=\"1\" class=\"dataframe\">\n",
              "  <thead>\n",
              "    <tr style=\"text-align: right;\">\n",
              "      <th></th>\n",
              "      <th>duration_sec</th>\n",
              "      <th>start_time</th>\n",
              "      <th>end_time</th>\n",
              "      <th>start_station_id</th>\n",
              "      <th>start_station_name</th>\n",
              "      <th>start_station_latitude</th>\n",
              "      <th>start_station_longitude</th>\n",
              "      <th>end_station_id</th>\n",
              "      <th>end_station_name</th>\n",
              "      <th>end_station_latitude</th>\n",
              "      <th>end_station_longitude</th>\n",
              "      <th>bike_id</th>\n",
              "      <th>user_type</th>\n",
              "      <th>member_birth_year</th>\n",
              "      <th>member_gender</th>\n",
              "      <th>bike_share_for_all_trip</th>\n",
              "      <th>duration_in_minute</th>\n",
              "      <th>start_date</th>\n",
              "      <th>start_hour_of_day</th>\n",
              "      <th>start_day_of_week</th>\n",
              "      <th>start_month</th>\n",
              "      <th>member_age</th>\n",
              "    </tr>\n",
              "  </thead>\n",
              "  <tbody>\n",
              "    <tr>\n",
              "      <th>0</th>\n",
              "      <td>52185</td>\n",
              "      <td>2019-02-28 17:32:10.145</td>\n",
              "      <td>2019-03-01 08:01:55.975</td>\n",
              "      <td>21.0</td>\n",
              "      <td>Montgomery St BART Station (Market St at 2nd St)</td>\n",
              "      <td>37.789625</td>\n",
              "      <td>-122.400811</td>\n",
              "      <td>13.0</td>\n",
              "      <td>Commercial St at Montgomery St</td>\n",
              "      <td>37.794231</td>\n",
              "      <td>-122.402923</td>\n",
              "      <td>4902</td>\n",
              "      <td>Customer</td>\n",
              "      <td>1984.0</td>\n",
              "      <td>Male</td>\n",
              "      <td>False</td>\n",
              "      <td>869.750000</td>\n",
              "      <td>2019-02-28</td>\n",
              "      <td>17</td>\n",
              "      <td>Thursday</td>\n",
              "      <td>February</td>\n",
              "      <td>35.0</td>\n",
              "    </tr>\n",
              "    <tr>\n",
              "      <th>2</th>\n",
              "      <td>61854</td>\n",
              "      <td>2019-02-28 12:13:13.218</td>\n",
              "      <td>2019-03-01 05:24:08.146</td>\n",
              "      <td>86.0</td>\n",
              "      <td>Market St at Dolores St</td>\n",
              "      <td>37.769305</td>\n",
              "      <td>-122.426826</td>\n",
              "      <td>3.0</td>\n",
              "      <td>Powell St BART Station (Market St at 4th St)</td>\n",
              "      <td>37.786375</td>\n",
              "      <td>-122.404904</td>\n",
              "      <td>5905</td>\n",
              "      <td>Customer</td>\n",
              "      <td>1972.0</td>\n",
              "      <td>Male</td>\n",
              "      <td>False</td>\n",
              "      <td>1030.900000</td>\n",
              "      <td>2019-02-28</td>\n",
              "      <td>12</td>\n",
              "      <td>Thursday</td>\n",
              "      <td>February</td>\n",
              "      <td>47.0</td>\n",
              "    </tr>\n",
              "    <tr>\n",
              "      <th>3</th>\n",
              "      <td>36490</td>\n",
              "      <td>2019-02-28 17:54:26.010</td>\n",
              "      <td>2019-03-01 04:02:36.842</td>\n",
              "      <td>375.0</td>\n",
              "      <td>Grove St at Masonic Ave</td>\n",
              "      <td>37.774836</td>\n",
              "      <td>-122.446546</td>\n",
              "      <td>70.0</td>\n",
              "      <td>Central Ave at Fell St</td>\n",
              "      <td>37.773311</td>\n",
              "      <td>-122.444293</td>\n",
              "      <td>6638</td>\n",
              "      <td>Subscriber</td>\n",
              "      <td>1989.0</td>\n",
              "      <td>Other</td>\n",
              "      <td>False</td>\n",
              "      <td>608.166667</td>\n",
              "      <td>2019-02-28</td>\n",
              "      <td>17</td>\n",
              "      <td>Thursday</td>\n",
              "      <td>February</td>\n",
              "      <td>30.0</td>\n",
              "    </tr>\n",
              "    <tr>\n",
              "      <th>4</th>\n",
              "      <td>1585</td>\n",
              "      <td>2019-02-28 23:54:18.549</td>\n",
              "      <td>2019-03-01 00:20:44.074</td>\n",
              "      <td>7.0</td>\n",
              "      <td>Frank H Ogawa Plaza</td>\n",
              "      <td>37.804562</td>\n",
              "      <td>-122.271738</td>\n",
              "      <td>222.0</td>\n",
              "      <td>10th Ave at E 15th St</td>\n",
              "      <td>37.792714</td>\n",
              "      <td>-122.248780</td>\n",
              "      <td>4898</td>\n",
              "      <td>Subscriber</td>\n",
              "      <td>1974.0</td>\n",
              "      <td>Male</td>\n",
              "      <td>True</td>\n",
              "      <td>26.416667</td>\n",
              "      <td>2019-02-28</td>\n",
              "      <td>23</td>\n",
              "      <td>Thursday</td>\n",
              "      <td>February</td>\n",
              "      <td>45.0</td>\n",
              "    </tr>\n",
              "    <tr>\n",
              "      <th>5</th>\n",
              "      <td>1793</td>\n",
              "      <td>2019-02-28 23:49:58.632</td>\n",
              "      <td>2019-03-01 00:19:51.760</td>\n",
              "      <td>93.0</td>\n",
              "      <td>4th St at Mission Bay Blvd S</td>\n",
              "      <td>37.770407</td>\n",
              "      <td>-122.391198</td>\n",
              "      <td>323.0</td>\n",
              "      <td>Broadway at Kearny</td>\n",
              "      <td>37.798014</td>\n",
              "      <td>-122.405950</td>\n",
              "      <td>5200</td>\n",
              "      <td>Subscriber</td>\n",
              "      <td>1959.0</td>\n",
              "      <td>Male</td>\n",
              "      <td>False</td>\n",
              "      <td>29.883333</td>\n",
              "      <td>2019-02-28</td>\n",
              "      <td>23</td>\n",
              "      <td>Thursday</td>\n",
              "      <td>February</td>\n",
              "      <td>60.0</td>\n",
              "    </tr>\n",
              "  </tbody>\n",
              "</table>\n",
              "</div>"
            ],
            "text/plain": [
              "   duration_sec              start_time  ... start_month  member_age\n",
              "0         52185 2019-02-28 17:32:10.145  ...    February        35.0\n",
              "2         61854 2019-02-28 12:13:13.218  ...    February        47.0\n",
              "3         36490 2019-02-28 17:54:26.010  ...    February        30.0\n",
              "4          1585 2019-02-28 23:54:18.549  ...    February        45.0\n",
              "5          1793 2019-02-28 23:49:58.632  ...    February        60.0\n",
              "\n",
              "[5 rows x 22 columns]"
            ]
          },
          "metadata": {},
          "execution_count": 18
        }
      ]
    },
    {
      "cell_type": "code",
      "metadata": {
        "colab": {
          "base_uri": "https://localhost:8080/"
        },
        "id": "3L20wHO-A6YC",
        "outputId": "478a2322-b3da-4542-92f6-136ce4c98572"
      },
      "source": [
        "df.shape"
      ],
      "execution_count": 19,
      "outputs": [
        {
          "output_type": "execute_result",
          "data": {
            "text/plain": [
              "(174952, 22)"
            ]
          },
          "metadata": {},
          "execution_count": 19
        }
      ]
    },
    {
      "cell_type": "code",
      "metadata": {
        "colab": {
          "base_uri": "https://localhost:8080/"
        },
        "id": "jvQA6OE_A6cZ",
        "outputId": "bf7a5a62-156c-4991-deb4-7dc78d9668f0"
      },
      "source": [
        "df.info()"
      ],
      "execution_count": 20,
      "outputs": [
        {
          "output_type": "stream",
          "text": [
            "<class 'pandas.core.frame.DataFrame'>\n",
            "Int64Index: 174952 entries, 0 to 183411\n",
            "Data columns (total 22 columns):\n",
            " #   Column                   Non-Null Count   Dtype         \n",
            "---  ------                   --------------   -----         \n",
            " 0   duration_sec             174952 non-null  int64         \n",
            " 1   start_time               174952 non-null  datetime64[ns]\n",
            " 2   end_time                 174952 non-null  datetime64[ns]\n",
            " 3   start_station_id         174952 non-null  float64       \n",
            " 4   start_station_name       174952 non-null  object        \n",
            " 5   start_station_latitude   174952 non-null  float64       \n",
            " 6   start_station_longitude  174952 non-null  float64       \n",
            " 7   end_station_id           174952 non-null  float64       \n",
            " 8   end_station_name         174952 non-null  object        \n",
            " 9   end_station_latitude     174952 non-null  float64       \n",
            " 10  end_station_longitude    174952 non-null  float64       \n",
            " 11  bike_id                  174952 non-null  int64         \n",
            " 12  user_type                174952 non-null  object        \n",
            " 13  member_birth_year        174952 non-null  float64       \n",
            " 14  member_gender            174952 non-null  object        \n",
            " 15  bike_share_for_all_trip  174952 non-null  bool          \n",
            " 16  duration_in_minute       174952 non-null  float64       \n",
            " 17  start_date               174952 non-null  object        \n",
            " 18  start_hour_of_day        174952 non-null  object        \n",
            " 19  start_day_of_week        174952 non-null  object        \n",
            " 20  start_month              174952 non-null  object        \n",
            " 21  member_age               174952 non-null  float64       \n",
            "dtypes: bool(1), datetime64[ns](2), float64(9), int64(2), object(8)\n",
            "memory usage: 29.5+ MB\n"
          ],
          "name": "stdout"
        }
      ]
    },
    {
      "cell_type": "markdown",
      "metadata": {
        "id": "LprhKohn3RKE"
      },
      "source": [
        "### What is the structure of your dataset?\n",
        "\n",
        "> The dataset contains 174952 fordgobike rides with 16 characteristics. \n",
        "(duration_sec, start_time, end_time, start_station_id, start_station_name, start_station_latitude, start_station_longitude, end_station_id, end_station_name, end_station_latitude ,end_station_longitude, bike_id, user_type, member_birth_year, member_gender, bike_share_for_all_trip).\n",
        "There are 9 numerical specifications, 2 datetime specifications, 4 object type specifications, and 1 boolean type specification out of 16 total.\n",
        "\n",
        "\n",
        "### What is/are the main feature(s) of interest in your dataset?\n",
        "\n",
        "> I'm particularly interested in determining how other dataset characteristics such as age, start and finish station, user type, and gender effect the  trip duration.\n",
        "\n",
        "### What features in the dataset do you think will help support your investigation into your feature(s) of interest?\n",
        "\n",
        "> The start date/time and duration information for each trip will aid in determining how longer of the trip. The member information, such as user type and gender, will assist us in determining who the key focus customer groups are; additionally, the member birth year will assist us in determining the age of the rider; also the houre day ,month,year will help us also  and finally, we will use the different groups to summarize bike usage data to see if there is any particular pattern associated with a particular group of riders."
      ]
    },
    {
      "cell_type": "markdown",
      "metadata": {
        "id": "BcYo53jL3RKF"
      },
      "source": [
        "## Univariate Exploration\n",
        "\n",
        "> In this section, investigate distributions of individual variables. If\n",
        "you see unusual points or outliers, take a deeper look to clean things up\n",
        "and prepare yourself to look at relationships between variables."
      ]
    },
    {
      "cell_type": "code",
      "metadata": {
        "colab": {
          "base_uri": "https://localhost:8080/",
          "height": 277
        },
        "id": "6GAwzk6-3RKF",
        "outputId": "b51932b8-4044-4371-c260-9494ee59bc4b"
      },
      "source": [
        "# trip distribution over day hours\n",
        "sb.countplot(data=df, x='start_hour_of_day', color='lightblue');\n",
        "plt.xlabel('Trip Start Hour of Day');\n",
        "plt.ylabel('Count');"
      ],
      "execution_count": 21,
      "outputs": [
        {
          "output_type": "display_data",
          "data": {
            "image/png": "[encoded data removed]",
            "text/plain": [
              "<Figure size 432x288 with 1 Axes>"
            ]
          },
          "metadata": {
            "needs_background": "light"
          }
        }
      ]
    },
    {
      "cell_type": "markdown",
      "metadata": {
        "id": "5JaRGXAFSYWo"
      },
      "source": [
        "**The two peak hours which have most bikers are 8:00 a.m. and 5:00 p.m.**"
      ]
    },
    {
      "cell_type": "code",
      "metadata": {
        "colab": {
          "base_uri": "https://localhost:8080/",
          "height": 496
        },
        "id": "qjdbeKyLPQU6",
        "outputId": "4063c37f-0371-4d82-f097-cf9a80fea05b"
      },
      "source": [
        "# trip distribution over week\n",
        "# trip distribution over week\n",
        "days_ordered = ['Monday', 'Tuesday', 'Wednesday', 'Thursday', 'Friday', 'Saturday', 'Sunday']\n",
        "dayscat = pd.api.types.CategoricalDtype(ordered=True, categories=days_ordered)\n",
        "df['start_day_of_week'] = df['start_day_of_week'].astype(dayscat)\n",
        "sb.countplot(data=df, x='start_day_of_week', color='lightblue');\n",
        "plt.xlabel('Trip Start Hour of week');\n",
        "plt.ylabel('Count');\n",
        "plt.gcf().set_size_inches(8,8)"
      ],
      "execution_count": 24,
      "outputs": [
        {
          "output_type": "display_data",
          "data": {
            "image/png": "[encoded data removed]",
            "text/plain": [
              "<Figure size 576x576 with 1 Axes>"
            ]
          },
          "metadata": {
            "needs_background": "light"
          }
        }
      ]
    },
    {
      "cell_type": "markdown",
      "metadata": {
        "id": "VCS2pqZMS09d"
      },
      "source": [
        "**The majority of bikers are present on Tursday.**"
      ]
    },
    {
      "cell_type": "code",
      "metadata": {
        "colab": {
          "base_uri": "https://localhost:8080/",
          "height": 303
        },
        "id": "GIYG01p6PQfp",
        "outputId": "ef7e813f-5ccc-497f-b40c-02f56a45921c"
      },
      "source": [
        "#let the month by order \n",
        "month = ['January', 'February', 'March', 'April', 'May', 'June', 'July', 'August', 'September', 'October', 'November', 'December']\n",
        "monthcat = pd.api.types.CategoricalDtype(ordered=True, categories=month)\n",
        "df['start_month'] = df['start_month'].astype(monthcat)\n",
        "\n",
        "# trip distribution over month\n",
        "sb.countplot(data=df, x='start_month', color='lightblue');\n",
        "plt.xlabel('months');\n",
        "plt.xticks(rotation=30);\n",
        "plt.ylabel('Count');"
      ],
      "execution_count": 25,
      "outputs": [
        {
          "output_type": "display_data",
          "data": {
            "image/png": "[encoded data removed]",
            "text/plain": [
              "<Figure size 432x288 with 1 Axes>"
            ]
          },
          "metadata": {
            "needs_background": "light"
          }
        }
      ]
    },
    {
      "cell_type": "markdown",
      "metadata": {
        "id": "L1noTY9mTdvn"
      },
      "source": [
        "**they start on february**"
      ]
    },
    {
      "cell_type": "code",
      "metadata": {
        "colab": {
          "base_uri": "https://localhost:8080/",
          "height": 278
        },
        "id": "iTXik4-yTk3R",
        "outputId": "0af4ec32-588e-4230-aa89-68ee1611aca7"
      },
      "source": [
        "sb.countplot(data = df, x = 'member_gender', color = 'lightblue');"
      ],
      "execution_count": 27,
      "outputs": [
        {
          "output_type": "display_data",
          "data": {
            "image/png": "[encoded data removed]",
            "text/plain": [
              "<Figure size 432x288 with 1 Axes>"
            ]
          },
          "metadata": {
            "needs_background": "light"
          }
        }
      ]
    },
    {
      "cell_type": "markdown",
      "metadata": {
        "id": "E_zv43j1ULfH"
      },
      "source": [
        "**Male bikers outnumber female bikers by almost three times**"
      ]
    },
    {
      "cell_type": "code",
      "metadata": {
        "colab": {
          "base_uri": "https://localhost:8080/"
        },
        "id": "2osdmwtjXYy-",
        "outputId": "7a32c486-6c29-4f7f-ba68-808230b747f9"
      },
      "source": [
        "df['member_age'].describe()\n"
      ],
      "execution_count": 28,
      "outputs": [
        {
          "output_type": "execute_result",
          "data": {
            "text/plain": [
              "count    174952.000000\n",
              "mean         34.196865\n",
              "std          10.118731\n",
              "min          18.000000\n",
              "25%          27.000000\n",
              "50%          32.000000\n",
              "75%          39.000000\n",
              "max         141.000000\n",
              "Name: member_age, dtype: float64"
            ]
          },
          "metadata": {},
          "execution_count": 28
        }
      ]
    },
    {
      "cell_type": "markdown",
      "metadata": {
        "id": "3RHpNMXJXiXV"
      },
      "source": [
        "**The maximum age is 141! This is unusual.**"
      ]
    },
    {
      "cell_type": "code",
      "metadata": {
        "colab": {
          "base_uri": "https://localhost:8080/",
          "height": 250
        },
        "id": "ODTwe6LuXlHN",
        "outputId": "0589a0b2-e47d-440a-ccb2-0df9d9975d0d"
      },
      "source": [
        "sb.boxplot(data = df, y = 'member_age');"
      ],
      "execution_count": 29,
      "outputs": [
        {
          "output_type": "display_data",
          "data": {
            "image/png": "[encoded data removed]",
            "text/plain": [
              "<Figure size 432x288 with 1 Axes>"
            ]
          },
          "metadata": {
            "needs_background": "light"
          }
        }
      ]
    },
    {
      "cell_type": "markdown",
      "metadata": {
        "id": "-1ITFvcQZHs4"
      },
      "source": [
        "**The data is not evenly distributed.**"
      ]
    },
    {
      "cell_type": "code",
      "metadata": {
        "id": "BgmJGmZ_Z9HQ"
      },
      "source": [
        "df = df[df['member_age'] <= 60]"
      ],
      "execution_count": 30,
      "outputs": []
    },
    {
      "cell_type": "code",
      "metadata": {
        "id": "yotGagtUffeS"
      },
      "source": [
        "df.member_age = df.member_age.astype('int')# Convert to int since it's in float"
      ],
      "execution_count": 31,
      "outputs": []
    },
    {
      "cell_type": "code",
      "metadata": {
        "colab": {
          "base_uri": "https://localhost:8080/",
          "height": 607
        },
        "id": "FwZs64YqWjgk",
        "outputId": "cb57884a-5910-4392-fbe6-1224810aeadb"
      },
      "source": [
        "sb.countplot(data = df, x = 'member_age', color = 'lightblue');\n",
        "plt.xticks(rotation=90);\n",
        "plt.xlabel('Bikers Age');\n",
        "plt.gcf().set_size_inches(10,10)\n"
      ],
      "execution_count": 32,
      "outputs": [
        {
          "output_type": "display_data",
          "data": {
            "image/png": "[encoded data removed]",
            "text/plain": [
              "<Figure size 720x720 with 1 Axes>"
            ]
          },
          "metadata": {
            "needs_background": "light"
          }
        }
      ]
    },
    {
      "cell_type": "code",
      "metadata": {
        "colab": {
          "base_uri": "https://localhost:8080/",
          "height": 250
        },
        "id": "F6LWXMeShpuS",
        "outputId": "2e738fee-f5ac-4ce1-f54f-5afe4fdd9ff7"
      },
      "source": [
        "sb.violinplot(data = df, y = 'member_age', color = 'lightblue');"
      ],
      "execution_count": 33,
      "outputs": [
        {
          "output_type": "display_data",
          "data": {
            "image/png": "[encoded data removed]",
            "text/plain": [
              "<Figure size 432x288 with 1 Axes>"
            ]
          },
          "metadata": {
            "needs_background": "light"
          }
        }
      ]
    },
    {
      "cell_type": "markdown",
      "metadata": {
        "id": "JoKiY3eqf3ET"
      },
      "source": [
        "**There are many bikers are around age 30. Especially at age 31 ,also there are not that many bikers above age 40.**"
      ]
    },
    {
      "cell_type": "code",
      "metadata": {
        "colab": {
          "base_uri": "https://localhost:8080/",
          "height": 278
        },
        "id": "nLo6sAuQUTrP",
        "outputId": "6add4eb2-072f-4d5e-c5ac-fcfda0105839"
      },
      "source": [
        "sb.countplot(data = df, x = 'user_type', color = 'lightblue');"
      ],
      "execution_count": 34,
      "outputs": [
        {
          "output_type": "display_data",
          "data": {
            "image/png": "[encoded data removed]",
            "text/plain": [
              "<Figure size 432x288 with 1 Axes>"
            ]
          },
          "metadata": {
            "needs_background": "light"
          }
        }
      ]
    },
    {
      "cell_type": "markdown",
      "metadata": {
        "id": "VQo6gTkVR407"
      },
      "source": [
        "**Users who are referred to as 'Subscribers' are more numerous than those who are referred to as 'Customers.'**"
      ]
    },
    {
      "cell_type": "code",
      "metadata": {
        "colab": {
          "base_uri": "https://localhost:8080/",
          "height": 278
        },
        "id": "u1kiMqtj9Eeh",
        "outputId": "30d30adb-1ced-41fa-a31e-0ce8038cdc5a"
      },
      "source": [
        "sb.countplot(data=df, x='bike_share_for_all_trip', color = 'lightblue');\n",
        "plt.xlabel('Bike Share for All Trip');\n",
        "plt.ylabel('Count');"
      ],
      "execution_count": 35,
      "outputs": [
        {
          "output_type": "display_data",
          "data": {
            "image/png": "[encoded data removed]",
            "text/plain": [
              "<Figure size 432x288 with 1 Axes>"
            ]
          },
          "metadata": {
            "needs_background": "light"
          }
        }
      ]
    },
    {
      "cell_type": "markdown",
      "metadata": {
        "id": "y6GxIsCT9Eoi"
      },
      "source": [
        "**The majority of the members did not use bike share for all of their trips**"
      ]
    },
    {
      "cell_type": "code",
      "metadata": {
        "colab": {
          "base_uri": "https://localhost:8080/",
          "height": 277
        },
        "id": "ixRXsxqrjy6X",
        "outputId": "1137b9a0-651c-4a65-dd00-8f9b86c1eb06"
      },
      "source": [
        "plt.hist(data=df, x='duration_in_minute',color = 'lightblue');\n",
        "plt.xlabel('Trip Duration in Minute');"
      ],
      "execution_count": 36,
      "outputs": [
        {
          "output_type": "display_data",
          "data": {
            "image/png": "[encoded data removed]",
            "text/plain": [
              "<Figure size 432x288 with 1 Axes>"
            ]
          },
          "metadata": {
            "needs_background": "light"
          }
        }
      ]
    },
    {
      "cell_type": "markdown",
      "metadata": {
        "id": "zOHVJjgQk907"
      },
      "source": [
        "**The length distribution spans quite far to the right (indicates a long time rental, over 24 hours) yet the bulk of the trips were quite brief, which was a bit surprising (within 200 mins). I'm going to zoom in on the most common situations to get a better sense of the distribution.**"
      ]
    },
    {
      "cell_type": "code",
      "metadata": {
        "colab": {
          "base_uri": "https://localhost:8080/"
        },
        "id": "CUwc6hNzV5G5",
        "outputId": "664d8a30-9c33-4ca7-b7de-d7cd427654b2"
      },
      "source": [
        "df['duration_in_minute'].describe(percentiles=[.99])"
      ],
      "execution_count": 37,
      "outputs": [
        {
          "output_type": "execute_result",
          "data": {
            "text/plain": [
              "count    171422.000000\n",
              "mean         11.720437\n",
              "std          27.577417\n",
              "min           1.016667\n",
              "50%           8.500000\n",
              "99%          52.896500\n",
              "max        1409.133333\n",
              "Name: duration_in_minute, dtype: float64"
            ]
          },
          "metadata": {},
          "execution_count": 37
        }
      ]
    },
    {
      "cell_type": "code",
      "metadata": {
        "colab": {
          "base_uri": "https://localhost:8080/",
          "height": 277
        },
        "id": "IV-DTR_blh3f",
        "outputId": "d44cf3b5-8a50-4349-9f90-68003586fae0"
      },
      "source": [
        "bins = np.arange(0, 66, 1)\n",
        "ticks = np.arange(0, 66, 5)\n",
        "plt.hist(data=df, x='duration_in_minute', bins=bins,color = 'lightblue');\n",
        "plt.xticks(ticks, ticks);\n",
        "plt.xlabel('Trip Duration in Minute');"
      ],
      "execution_count": 40,
      "outputs": [
        {
          "output_type": "display_data",
          "data": {
            "image/png": "[encoded data removed]",
            "text/plain": [
              "<Figure size 432x288 with 1 Axes>"
            ]
          },
          "metadata": {
            "needs_background": "light"
          }
        }
      ]
    },
    {
      "cell_type": "code",
      "metadata": {
        "colab": {
          "base_uri": "https://localhost:8080/"
        },
        "id": "gk3K67KwA9Ta",
        "outputId": "31fa885a-a06f-49bb-f428-08bad76ad09c"
      },
      "source": [
        "#  filter out outlier trip records \n",
        "df = df.query('duration_in_minute <= 66')\n",
        "df.info(null_counts=True)"
      ],
      "execution_count": 41,
      "outputs": [
        {
          "output_type": "stream",
          "text": [
            "<class 'pandas.core.frame.DataFrame'>\n",
            "Int64Index: 170228 entries, 4 to 183411\n",
            "Data columns (total 22 columns):\n",
            " #   Column                   Non-Null Count   Dtype         \n",
            "---  ------                   --------------   -----         \n",
            " 0   duration_sec             170228 non-null  int64         \n",
            " 1   start_time               170228 non-null  datetime64[ns]\n",
            " 2   end_time                 170228 non-null  datetime64[ns]\n",
            " 3   start_station_id         170228 non-null  float64       \n",
            " 4   start_station_name       170228 non-null  object        \n",
            " 5   start_station_latitude   170228 non-null  float64       \n",
            " 6   start_station_longitude  170228 non-null  float64       \n",
            " 7   end_station_id           170228 non-null  float64       \n",
            " 8   end_station_name         170228 non-null  object        \n",
            " 9   end_station_latitude     170228 non-null  float64       \n",
            " 10  end_station_longitude    170228 non-null  float64       \n",
            " 11  bike_id                  170228 non-null  int64         \n",
            " 12  user_type                170228 non-null  object        \n",
            " 13  member_birth_year        170228 non-null  float64       \n",
            " 14  member_gender            170228 non-null  object        \n",
            " 15  bike_share_for_all_trip  170228 non-null  bool          \n",
            " 16  duration_in_minute       170228 non-null  float64       \n",
            " 17  start_date               170228 non-null  object        \n",
            " 18  start_hour_of_day        170228 non-null  object        \n",
            " 19  start_day_of_week        170228 non-null  category      \n",
            " 20  start_month              170228 non-null  category      \n",
            " 21  member_age               170228 non-null  int64         \n",
            "dtypes: bool(1), category(2), datetime64[ns](2), float64(8), int64(3), object(6)\n",
            "memory usage: 26.5+ MB\n"
          ],
          "name": "stdout"
        }
      ]
    },
    {
      "cell_type": "code",
      "metadata": {
        "colab": {
          "base_uri": "https://localhost:8080/"
        },
        "id": "A5yHq2X7BRs3",
        "outputId": "efd32f58-403a-441e-f786-0826e240b346"
      },
      "source": [
        "df['duration_in_minute'].describe(percentiles=[.99])"
      ],
      "execution_count": 42,
      "outputs": [
        {
          "output_type": "execute_result",
          "data": {
            "text/plain": [
              "count    170228.000000\n",
              "mean         10.333960\n",
              "std           7.538646\n",
              "min           1.016667\n",
              "50%           8.450000\n",
              "99%          40.316667\n",
              "max          66.000000\n",
              "Name: duration_in_minute, dtype: float64"
            ]
          },
          "metadata": {},
          "execution_count": 42
        }
      ]
    },
    {
      "cell_type": "markdown",
      "metadata": {
        "id": "gAF7ybZTmIGx"
      },
      "source": [
        "**It appears that 99 percent of the trips lasted less than an hour, with the majority of them lasting between 5 and 10 minutes.**"
      ]
    },
    {
      "cell_type": "markdown",
      "metadata": {
        "id": "nqhKkZU33RKG"
      },
      "source": [
        "### Discuss the distribution(s) of your variable(s) of interest. Were there any unusual points? Did you need to perform any transformations?\n",
        "\n",
        "> The number of journeys peaked between 8 a.m. and 17 p.m. during the day; there were more trips on weekdays (Tue-Fri), although the bulk of bikers are present on Thursdays vs weekends. February was the most popular month of the year, owing to the weather and the fact that the data only includes the month of February.Male riders outnumbered female riders, and most members were subscribers rather than casual riders. The majority of members did not use bike sharing for all of their journeys, and the majority were between the ages of 25 and 40, with the average age being 31. There aren't many bikers beyond the age of 40. \n",
        "The most of the rides were quick and short, lasting between 5 and 10 minutes, however there were some extremely long outliers, such as 24 hours. \n",
        "Because the datatype was float rather than integer in age_member, transformation was required.\n",
        "\n",
        "### Of the features you investigated, were there any unusual distributions? Did you perform any operations on the data to tidy, adjust, or change the form of the data? If so, why did you do this?\n",
        "\n",
        "> When plotting out the original data, the distribution of trip duration was a little unexpected at first. The distribution was much apparent after using.describe() and xticks() to zoom in to a narrower range where most trip records fell. I used.query to filter out the outlier long trip records for the research in order to assist focus on the major examples of typical system use"
      ]
    },
    {
      "cell_type": "markdown",
      "metadata": {
        "id": "3d3SgeR53RKG"
      },
      "source": [
        "## Bivariate Exploration\n",
        "\n",
        "> In this section, investigate relationships between pairs of variables in your\n",
        "data. Make sure the variables that you cover here have been introduced in some\n",
        "fashion in the previous section (univariate exploration)."
      ]
    },
    {
      "cell_type": "code",
      "metadata": {
        "colab": {
          "base_uri": "https://localhost:8080/"
        },
        "id": "49HnvdxoDyBh",
        "outputId": "690cf996-c7d5-4f4b-dd3e-d3de5cf560b1"
      },
      "source": [
        "df.info()"
      ],
      "execution_count": 43,
      "outputs": [
        {
          "output_type": "stream",
          "text": [
            "<class 'pandas.core.frame.DataFrame'>\n",
            "Int64Index: 170228 entries, 4 to 183411\n",
            "Data columns (total 22 columns):\n",
            " #   Column                   Non-Null Count   Dtype         \n",
            "---  ------                   --------------   -----         \n",
            " 0   duration_sec             170228 non-null  int64         \n",
            " 1   start_time               170228 non-null  datetime64[ns]\n",
            " 2   end_time                 170228 non-null  datetime64[ns]\n",
            " 3   start_station_id         170228 non-null  float64       \n",
            " 4   start_station_name       170228 non-null  object        \n",
            " 5   start_station_latitude   170228 non-null  float64       \n",
            " 6   start_station_longitude  170228 non-null  float64       \n",
            " 7   end_station_id           170228 non-null  float64       \n",
            " 8   end_station_name         170228 non-null  object        \n",
            " 9   end_station_latitude     170228 non-null  float64       \n",
            " 10  end_station_longitude    170228 non-null  float64       \n",
            " 11  bike_id                  170228 non-null  int64         \n",
            " 12  user_type                170228 non-null  object        \n",
            " 13  member_birth_year        170228 non-null  float64       \n",
            " 14  member_gender            170228 non-null  object        \n",
            " 15  bike_share_for_all_trip  170228 non-null  bool          \n",
            " 16  duration_in_minute       170228 non-null  float64       \n",
            " 17  start_date               170228 non-null  object        \n",
            " 18  start_hour_of_day        170228 non-null  object        \n",
            " 19  start_day_of_week        170228 non-null  category      \n",
            " 20  start_month              170228 non-null  category      \n",
            " 21  member_age               170228 non-null  int64         \n",
            "dtypes: bool(1), category(2), datetime64[ns](2), float64(8), int64(3), object(6)\n",
            "memory usage: 26.5+ MB\n"
          ],
          "name": "stdout"
        }
      ]
    },
    {
      "cell_type": "markdown",
      "metadata": {
        "id": "LOLT1PCWGX-4"
      },
      "source": [
        "# What is the gender difference in trip duration?"
      ]
    },
    {
      "cell_type": "code",
      "metadata": {
        "colab": {
          "base_uri": "https://localhost:8080/",
          "height": 277
        },
        "id": "ZhzFDwPu3RKG",
        "outputId": "e185efd3-932f-48f3-b128-873a4df0167d"
      },
      "source": [
        "\n",
        "sb.boxplot(data=df, x='member_gender', y='duration_in_minute', color = 'lightblue');\n",
        "plt.xlabel('Gender');\n",
        "plt.ylabel('Trip Duration in Minute');"
      ],
      "execution_count": 44,
      "outputs": [
        {
          "output_type": "display_data",
          "data": {
            "image/png": "[encoded data removed]",
            "text/plain": [
              "<Figure size 432x288 with 1 Axes>"
            ]
          },
          "metadata": {
            "needs_background": "light"
          }
        }
      ]
    },
    {
      "cell_type": "markdown",
      "metadata": {
        "id": "eIk-K_kHDYWG"
      },
      "source": [
        "**Male riders had shorter journeys than female riders, despite the fact that the difference isn't significant, as seen by a lower median and IQR.**"
      ]
    },
    {
      "cell_type": "markdown",
      "metadata": {
        "id": "fI9DTIK0OPsg"
      },
      "source": [
        "# Weekdays' member age:"
      ]
    },
    {
      "cell_type": "code",
      "metadata": {
        "colab": {
          "base_uri": "https://localhost:8080/",
          "height": 496
        },
        "id": "ODC2ytmHOP7K",
        "outputId": "796b0872-eddd-45ea-9f7f-a5ffe3685137"
      },
      "source": [
        "sb.boxplot(data=df, x='start_day_of_week', y='member_age', color = 'lightblue');\n",
        "plt.xlabel('Day of Week');\n",
        "plt.ylabel('Member Age');\n",
        "plt.gcf().set_size_inches(8,8)"
      ],
      "execution_count": 45,
      "outputs": [
        {
          "output_type": "display_data",
          "data": {
            "image/png": "[encoded data removed]",
            "text/plain": [
              "<Figure size 576x576 with 1 Axes>"
            ]
          },
          "metadata": {
            "needs_background": "light"
          }
        }
      ]
    },
    {
      "cell_type": "markdown",
      "metadata": {
        "id": "EA1gBYrdOQGA"
      },
      "source": [
        "**The riders who rented bikes on Thursday and Tuesday are slightly older than those who rode on other days.**"
      ]
    },
    {
      "cell_type": "markdown",
      "metadata": {
        "id": "YZ7DY_dIGbdW"
      },
      "source": [
        "# What are the differences in trip duration between customers and subscribers?"
      ]
    },
    {
      "cell_type": "code",
      "metadata": {
        "colab": {
          "base_uri": "https://localhost:8080/",
          "height": 277
        },
        "id": "ZVFy7qn_Frgd",
        "outputId": "af6b205b-8979-4a76-c13f-e2f6d4adaca8"
      },
      "source": [
        "sb.violinplot(data=df, x='user_type', y='duration_in_minute', color = 'lightblue', inner='quartile');\n",
        "plt.xlabel('User Type');\n",
        "plt.ylabel('Trip Duration in Minute');"
      ],
      "execution_count": 46,
      "outputs": [
        {
          "output_type": "display_data",
          "data": {
            "image/png": "[encoded data removed]",
            "text/plain": [
              "<Figure size 432x288 with 1 Axes>"
            ]
          },
          "metadata": {
            "needs_background": "light"
          }
        }
      ]
    },
    {
      "cell_type": "markdown",
      "metadata": {
        "id": "blNNJRHlFrxE"
      },
      "source": [
        "**On the shorter/quicker trip end, the trip duration distribution for subscribers is significantly smaller than customers. While compared to customers who vary more and usually rent the bikes for longer periods of time, it appears that subscribers have a more precise usage or intended purpose when using the bikes.**\n"
      ]
    },
    {
      "cell_type": "markdown",
      "metadata": {
        "id": "6wkvSt64QMe9"
      },
      "source": [
        "# Customer and subscription consumption on a weekly usage"
      ]
    },
    {
      "cell_type": "code",
      "metadata": {
        "colab": {
          "base_uri": "https://localhost:8080/",
          "height": 496
        },
        "id": "Ygpa8Fa-QMrs",
        "outputId": "d004a83a-01a2-42b6-8eb6-f15e2debadc6"
      },
      "source": [
        "sb.countplot(data=df, x='start_day_of_week', hue='user_type',color = 'lightblue');\n",
        "plt.xlabel('Day of Week');\n",
        "plt.ylabel('Count');\n",
        "plt.gcf().set_size_inches(8,8) \n"
      ],
      "execution_count": 47,
      "outputs": [
        {
          "output_type": "display_data",
          "data": {
            "image/png": "[encoded data removed]",
            "text/plain": [
              "<Figure size 576x576 with 1 Axes>"
            ]
          },
          "metadata": {
            "needs_background": "light"
          }
        }
      ]
    },
    {
      "cell_type": "markdown",
      "metadata": {
        "id": "YRt5JSImQM1e"
      },
      "source": [
        "**Overall, subscribers used the service far more than casual customers. The decrease in volume for subscribers on weekends suggests that they mostly ride bikes for work commutes during the week, whereas the nearly opposite pattern of a slight improvement in use for consumers on weekends indicates that they ride bikes for entertainment.**"
      ]
    },
    {
      "cell_type": "markdown",
      "metadata": {
        "id": "-QMsKv8OUw15"
      },
      "source": [
        "# Customer and subscription consumption on a daily usage"
      ]
    },
    {
      "cell_type": "code",
      "metadata": {
        "colab": {
          "base_uri": "https://localhost:8080/",
          "height": 496
        },
        "id": "N2JBVf69UxDP",
        "outputId": "6b20af01-1d41-4571-c1f3-0e4dab8ee970"
      },
      "source": [
        "sb.countplot(data=df, x='start_hour_of_day', hue='user_type',color= 'lightblue');\n",
        "plt.xlabel('Hour of Day');\n",
        "plt.ylabel('Count');\n",
        "plt.gcf().set_size_inches(8,8) "
      ],
      "execution_count": 48,
      "outputs": [
        {
          "output_type": "display_data",
          "data": {
            "image/png": "[encoded data removed]",
            "text/plain": [
              "<Figure size 576x576 with 1 Axes>"
            ]
          },
          "metadata": {
            "needs_background": "light"
          }
        }
      ]
    },
    {
      "cell_type": "markdown",
      "metadata": {
        "id": "U9Cx4ixrUxOe"
      },
      "source": [
        "**Subscriber usage obviously peaks during normal rush hours, when people are going to work in the morning and coming home in the afternoon, supporting their riding purpose and goal it to go and back from work . Customers who ride more in the afternoon or early evening for a different purpose than subscriber riders did not show a similar pattern.**"
      ]
    },
    {
      "cell_type": "markdown",
      "metadata": {
        "id": "3JvcFShHJ4Oa"
      },
      "source": [
        "# On weekdays, the average trip duration is?\n",
        "\n",
        "\n",
        "\n"
      ]
    },
    {
      "cell_type": "code",
      "metadata": {
        "colab": {
          "base_uri": "https://localhost:8080/",
          "height": 496
        },
        "id": "ou6w_IYRDNaz",
        "outputId": "afea512b-8ad9-4f3d-b6aa-49e10ae44c62"
      },
      "source": [
        "sb.barplot(data=df, x='start_day_of_week', y='duration_in_minute', color = 'lightblue');\n",
        "plt.xlabel('Day of Week');\n",
        "plt.ylabel('The Average Trip Duration In Minute');\n",
        "plt.gcf().set_size_inches(8,8)"
      ],
      "execution_count": 49,
      "outputs": [
        {
          "output_type": "display_data",
          "data": {
            "image/png": "[encoded data removed]",
            "text/plain": [
              "<Figure size 576x576 with 1 Axes>"
            ]
          },
          "metadata": {
            "needs_background": "light"
          }
        }
      ]
    },
    {
      "cell_type": "markdown",
      "metadata": {
        "id": "5zHVZ9AaK2om"
      },
      "source": [
        "**In comparison to weekends, riding trips are significantly shorter Monday through Friday. while satrday and sunday have more trip durations .however it implies rather consistent and effective use of the sharing system**"
      ]
    },
    {
      "cell_type": "markdown",
      "metadata": {
        "id": "Wi2yHEQiL5PW"
      },
      "source": [
        "# On mounth, the average trip duration is?"
      ]
    },
    {
      "cell_type": "code",
      "metadata": {
        "colab": {
          "base_uri": "https://localhost:8080/",
          "height": 541
        },
        "id": "uttANcGGL5bh",
        "outputId": "80aedb32-7437-4594-d7f6-a3d306ff2048"
      },
      "source": [
        "sb.barplot(data=df, x='start_month', y='duration_in_minute', color = 'lightblue');\n",
        "plt.xlabel('Month');\n",
        "plt.ylabel('The Average Trip Duration In Minute');\n",
        "plt.xticks(rotation=90);\n",
        "plt.gcf().set_size_inches(8,8)"
      ],
      "execution_count": 50,
      "outputs": [
        {
          "output_type": "display_data",
          "data": {
            "image/png": "[encoded data removed]",
            "text/plain": [
              "<Figure size 576x576 with 1 Axes>"
            ]
          },
          "metadata": {
            "needs_background": "light"
          }
        }
      ]
    },
    {
      "cell_type": "markdown",
      "metadata": {
        "id": "D2fuWtb3L5lM"
      },
      "source": [
        "**Because the data is focused on February only, it have more trip durations**"
      ]
    },
    {
      "cell_type": "code",
      "metadata": {
        "colab": {
          "base_uri": "https://localhost:8080/"
        },
        "id": "XGt6GjStX830",
        "outputId": "345893ee-0a7d-4c2a-fa42-18a0d4653253"
      },
      "source": [
        "df.info()"
      ],
      "execution_count": 51,
      "outputs": [
        {
          "output_type": "stream",
          "text": [
            "<class 'pandas.core.frame.DataFrame'>\n",
            "Int64Index: 170228 entries, 4 to 183411\n",
            "Data columns (total 22 columns):\n",
            " #   Column                   Non-Null Count   Dtype         \n",
            "---  ------                   --------------   -----         \n",
            " 0   duration_sec             170228 non-null  int64         \n",
            " 1   start_time               170228 non-null  datetime64[ns]\n",
            " 2   end_time                 170228 non-null  datetime64[ns]\n",
            " 3   start_station_id         170228 non-null  float64       \n",
            " 4   start_station_name       170228 non-null  object        \n",
            " 5   start_station_latitude   170228 non-null  float64       \n",
            " 6   start_station_longitude  170228 non-null  float64       \n",
            " 7   end_station_id           170228 non-null  float64       \n",
            " 8   end_station_name         170228 non-null  object        \n",
            " 9   end_station_latitude     170228 non-null  float64       \n",
            " 10  end_station_longitude    170228 non-null  float64       \n",
            " 11  bike_id                  170228 non-null  int64         \n",
            " 12  user_type                170228 non-null  object        \n",
            " 13  member_birth_year        170228 non-null  float64       \n",
            " 14  member_gender            170228 non-null  object        \n",
            " 15  bike_share_for_all_trip  170228 non-null  bool          \n",
            " 16  duration_in_minute       170228 non-null  float64       \n",
            " 17  start_date               170228 non-null  object        \n",
            " 18  start_hour_of_day        170228 non-null  object        \n",
            " 19  start_day_of_week        170228 non-null  category      \n",
            " 20  start_month              170228 non-null  category      \n",
            " 21  member_age               170228 non-null  int64         \n",
            "dtypes: bool(1), category(2), datetime64[ns](2), float64(8), int64(3), object(6)\n",
            "memory usage: 31.5+ MB\n"
          ],
          "name": "stdout"
        }
      ]
    },
    {
      "cell_type": "markdown",
      "metadata": {
        "id": "vj-LEcwi3RKH"
      },
      "source": [
        "### Talk about some of the relationships you observed in this part of the investigation. How did the feature(s) of interest vary with other features in the dataset?\n",
        "\n",
        "> Subscriber usage is far higher than customer usage. Subscribers and customers have quite different riding habits and patterns.for Subscribers Most trips were on work days (Mon-Fri) and especially during rush hours (when going to work in the morning and getting off work in the afternoon), whereas customers prefer to ride for fun in the afternoon or early evenings on weekends. Subscribers are slightly older than non-subscribers ,also Subscribers take longer rides on average.\n",
        "\n",
        "### Did you observe any interesting relationships between the other features (not the main feature(s) of interest)?\n",
        "\n",
        "> It's interesting to see that while subscribers are slightly older than customers on average, they ride far shorter and faster.the difference in the trip duration between customers and subscribers.in short nut Customers took longer trip duration  to have more fun during weekends where the subscribers took shorter distance trips since they just use it for Work and Home commute purposes."
      ]
    },
    {
      "cell_type": "markdown",
      "metadata": {
        "id": "vXsx_lR43RKH"
      },
      "source": [
        "## Multivariate Exploration\n",
        "\n",
        "> Create plots of three or more variables to investigate your data even\n",
        "further. Make sure that your investigations are justified, and follow from\n",
        "your work in the previous sections."
      ]
    },
    {
      "cell_type": "markdown",
      "metadata": {
        "id": "ytwMNqGGfP6X"
      },
      "source": [
        "# Bike Rides by Gender:"
      ]
    },
    {
      "cell_type": "code",
      "metadata": {
        "colab": {
          "base_uri": "https://localhost:8080/",
          "height": 496
        },
        "id": "5OaqdfDhfQIp",
        "outputId": "6d339363-062f-4a68-c6e9-a5709b990ae5"
      },
      "source": [
        "sns.countplot(data=df, x=\"user_type\", hue=\"member_gender\", order=df.user_type.value_counts().index,color='lightblue')\n",
        "plt.gcf().set_size_inches(8,8)"
      ],
      "execution_count": 52,
      "outputs": [
        {
          "output_type": "display_data",
          "data": {
            "image/png": "[encoded data removed]",
            "text/plain": [
              "<Figure size 576x576 with 1 Axes>"
            ]
          },
          "metadata": {
            "needs_background": "light"
          }
        }
      ]
    },
    {
      "cell_type": "markdown",
      "metadata": {
        "id": "9W5900XBfQTl"
      },
      "source": [
        "**In comparison to  user type, most of Males appears that they using service than females**"
      ]
    },
    {
      "cell_type": "markdown",
      "metadata": {
        "id": "JpAb74ZlcA_O"
      },
      "source": [
        "# On weekdays, how does the average trip duration differ between customers and subscribers?"
      ]
    },
    {
      "cell_type": "code",
      "metadata": {
        "colab": {
          "base_uri": "https://localhost:8080/",
          "height": 496
        },
        "id": "zr7IDHCFcBOu",
        "outputId": "5d769d2d-b928-4d26-8f61-14dcd4226bad"
      },
      "source": [
        "sb.pointplot(data=df, x='start_day_of_week', y='duration_in_minute', hue='user_type', dodge=0.3, linestyles=\"\", color = 'lightblue');\n",
        "plt.xlabel('Day of Week');\n",
        "plt.ylabel('The Average Trip Duration in Minute');\n",
        "plt.gcf().set_size_inches(8,8)"
      ],
      "execution_count": 53,
      "outputs": [
        {
          "output_type": "display_data",
          "data": {
            "image/png": "[encoded data removed]",
            "text/plain": [
              "<Figure size 576x576 with 1 Axes>"
            ]
          },
          "metadata": {
            "needs_background": "light"
          }
        }
      ]
    },
    {
      "cell_type": "markdown",
      "metadata": {
        "id": "fR5DVYO-cBaf"
      },
      "source": [
        "**Subscribers take far shorter/quicker journeys than consumers on each day of the week, as shown in the graph above. On Saturdays and Sundays, almost all user categories had much longer trips than on weekends, particularly casual riders. Subscribers appear to be more practical than customers in general, with a regular average length from Monday to Friday.**"
      ]
    },
    {
      "cell_type": "markdown",
      "metadata": {
        "id": "n0dJFut-hyoC"
      },
      "source": [
        "# Weekday Hourly Usage for Customers and Subscribers\n"
      ]
    },
    {
      "cell_type": "code",
      "metadata": {
        "colab": {
          "base_uri": "https://localhost:8080/",
          "height": 309
        },
        "id": "VdfNmJvghy19",
        "outputId": "763b20c2-80cc-4746-e8d9-f8d21b9a5346"
      },
      "source": [
        "plt.suptitle('Weekday Hourly Usage for Customers ',color='darkblue')\n",
        "customers = df.query('user_type == \"Customer\"')\n",
        "c = customers.groupby(['start_day_of_week', 'start_hour_of_day']).size()\n",
        "c = c.reset_index(name='count')\n",
        "c = c.pivot(index='start_day_of_week', columns='start_hour_of_day', values='count')\n",
        "sb.heatmap(c, cmap='Blues');\n",
        "plt.title('Customer',color='darkblue');\n",
        "plt.xlabel('Hour of Day', color='darkblue');\n",
        "plt.ylabel('Day of Week', color='darkblue');\n",
        "plt.gcf().set_size_inches(8,4)\n",
        "\n",
        "\n"
      ],
      "execution_count": 54,
      "outputs": [
        {
          "output_type": "display_data",
          "data": {
            "image/png": "[encoded data removed]",
            "text/plain": [
              "<Figure size 576x288 with 2 Axes>"
            ]
          },
          "metadata": {
            "needs_background": "light"
          }
        }
      ]
    },
    {
      "cell_type": "code",
      "metadata": {
        "colab": {
          "base_uri": "https://localhost:8080/",
          "height": 309
        },
        "id": "GchfBFaEm75u",
        "outputId": "f9521c03-e11c-4281-d54a-9ec5a0bb4e1f"
      },
      "source": [
        "plt.suptitle('Weekday Hourly Usage for Subscriber ',color='darkblue')\n",
        "Subscriber = df.query('user_type == \"Subscriber\"')\n",
        "c = Subscriber.groupby(['start_day_of_week', 'start_hour_of_day']).size()\n",
        "c = c.reset_index(name='count')\n",
        "c = c.pivot(index='start_day_of_week', columns='start_hour_of_day', values='count')\n",
        "sb.heatmap(c, cmap='Blues');\n",
        "plt.title('Subscriber',color='darkblue');\n",
        "plt.xlabel('Hour of Day', color='darkblue');\n",
        "plt.ylabel('Day of Week', color='darkblue');\n",
        "plt.gcf().set_size_inches(8,4)"
      ],
      "execution_count": 55,
      "outputs": [
        {
          "output_type": "display_data",
          "data": {
            "image/png": "[encoded data removed]",
            "text/plain": [
              "<Figure size 576x288 with 2 Axes>"
            ]
          },
          "metadata": {
            "needs_background": "light"
          }
        }
      ]
    },
    {
      "cell_type": "markdown",
      "metadata": {
        "id": "E7JDuQVZhzBQ"
      },
      "source": [
        "**The heatmaps clearly demonstrate that the two types of riders have extremely distinct usage habits and behaviors. Subscribers made heavy use of the system during the workday, i.e. Customers ride a lot on weekends, especially in the afternoons, as opposed to Monday through Friday. When used for work commutes, many trips focused around 8-9 a.m. and 17-18 p.m. on work days for subscribers, although customers tend to use more in the late afternoon around 17 p.m. Monday through Friday. It might also be related to the traffic situation in the region during these peak hours, aside from usage goal and habit.**"
      ]
    },
    {
      "cell_type": "markdown",
      "metadata": {
        "id": "rfMBA_2P3RKH"
      },
      "source": [
        "### Talk about some of the relationships you observed in this part of the investigation. Were there features that strengthened each other in terms of looking at your feature(s) of interest?\n",
        "\n",
        "> The connection between the many variables plotted is seen together and information is provided together in the multivariate exploration, which enhanced some of the patterns identified in the preceding bivariate as well as univariate research.In terms of user type, males tend to utilize the service more frequently than females, and the efficient/short period of usage for subscribers correlates to their large concentration during rush hours Monday through Friday, implying that the service is mostly used for work commutes. The more relaxed and flexible pattern of customer use indicates that they utilize the bike sharing system differently than subscribers, mostly on weekends and in the afternoons, maybe for personal enjoyment.\n",
        "\n",
        "### Were there any interesting or surprising interactions between features?\n",
        "\n",
        "> When all of the interactions between characteristics are considered together, they all complement each other and make logical sense, so there isn't anything to be surprised about. Throughout the investigation, there is little or no variation in usage habits between male and female riders,If there was more female data, it would also be extremely interesting to observe how male and female users of the system different.In addition, there is only data for the month of February, if there are other months, it will be interesting to know if it is in the summer or winter period in which the time period for trips increases"
      ]
    },
    {
      "cell_type": "markdown",
      "metadata": {
        "id": "Xz63qcV33RKI"
      },
      "source": [
        "> At the end of your report, make sure that you export the notebook as an\n",
        "html file from the `File > Download as... > HTML` menu. Make sure you keep\n",
        "track of where the exported file goes, so you can put it in the same folder\n",
        "as this notebook for project submission. Also, make sure you remove all of\n",
        "the quote-formatted guide notes like this one before you finish your report!"
      ]
    },
    {
      "cell_type": "code",
      "metadata": {
        "id": "8Ztk0eN_0-VZ"
      },
      "source": [
        "df.to_csv(\"clean_Exploration_Ford_GoBik.csv\")"
      ],
      "execution_count": 167,
      "outputs": []
    },
    {
      "cell_type": "code",
      "metadata": {
        "colab": {
          "base_uri": "https://localhost:8080/"
        },
        "id": "nsiIoD9cIBfa",
        "outputId": "f70197be-d6e2-4e56-ce4d-4193fca5c851"
      },
      "source": [
        "pip install nbconvert\n"
      ],
      "execution_count": 56,
      "outputs": [
        {
          "output_type": "stream",
          "text": [
            "Requirement already satisfied: nbconvert in /usr/local/lib/python3.7/dist-packages (5.6.1)\n",
            "Requirement already satisfied: jupyter-core in /usr/local/lib/python3.7/dist-packages (from nbconvert) (4.7.1)\n",
            "Requirement already satisfied: defusedxml in /usr/local/lib/python3.7/dist-packages (from nbconvert) (0.7.1)\n",
            "Requirement already satisfied: pandocfilters>=1.4.1 in /usr/local/lib/python3.7/dist-packages (from nbconvert) (1.4.3)\n",
            "Requirement already satisfied: traitlets>=4.2 in /usr/local/lib/python3.7/dist-packages (from nbconvert) (5.0.5)\n",
            "Requirement already satisfied: testpath in /usr/local/lib/python3.7/dist-packages (from nbconvert) (0.5.0)\n",
            "Requirement already satisfied: mistune<2,>=0.8.1 in /usr/local/lib/python3.7/dist-packages (from nbconvert) (0.8.4)\n",
            "Requirement already satisfied: jinja2>=2.4 in /usr/local/lib/python3.7/dist-packages (from nbconvert) (2.11.3)\n",
            "Requirement already satisfied: nbformat>=4.4 in /usr/local/lib/python3.7/dist-packages (from nbconvert) (5.1.3)\n",
            "Requirement already satisfied: bleach in /usr/local/lib/python3.7/dist-packages (from nbconvert) (4.0.0)\n",
            "Requirement already satisfied: entrypoints>=0.2.2 in /usr/local/lib/python3.7/dist-packages (from nbconvert) (0.3)\n",
            "Requirement already satisfied: pygments in /usr/local/lib/python3.7/dist-packages (from nbconvert) (2.6.1)\n",
            "Requirement already satisfied: MarkupSafe>=0.23 in /usr/local/lib/python3.7/dist-packages (from jinja2>=2.4->nbconvert) (2.0.1)\n",
            "Requirement already satisfied: ipython-genutils in /usr/local/lib/python3.7/dist-packages (from nbformat>=4.4->nbconvert) (0.2.0)\n",
            "Requirement already satisfied: jsonschema!=2.5.0,>=2.4 in /usr/local/lib/python3.7/dist-packages (from nbformat>=4.4->nbconvert) (2.6.0)\n",
            "Requirement already satisfied: webencodings in /usr/local/lib/python3.7/dist-packages (from bleach->nbconvert) (0.5.1)\n",
            "Requirement already satisfied: six>=1.9.0 in /usr/local/lib/python3.7/dist-packages (from bleach->nbconvert) (1.15.0)\n",
            "Requirement already satisfied: packaging in /usr/local/lib/python3.7/dist-packages (from bleach->nbconvert) (21.0)\n",
            "Requirement already satisfied: pyparsing>=2.0.2 in /usr/local/lib/python3.7/dist-packages (from packaging->bleach->nbconvert) (2.4.7)\n"
          ],
          "name": "stdout"
        }
      ]
    },
    {
      "cell_type": "code",
      "metadata": {
        "colab": {
          "base_uri": "https://localhost:8080/"
        },
        "id": "H4un9PXGIMZt",
        "outputId": "8d4c1a39-f11a-472f-ae79-ad6ef57731c5"
      },
      "source": [
        "%%shell\n",
        "jupyter nbconvert --to html /content/Exploration_Ford_GoBik_template-2.ipynb"
      ],
      "execution_count": 169,
      "outputs": [
        {
          "output_type": "stream",
          "text": [
            "[NbConvertApp] Converting notebook /content/Exploration_Ford_GoBik_template-2.ipynb to html\n",
            "[NbConvertApp] Writing 686883 bytes to /content/Exploration_Ford_GoBik_template-2.html\n"
          ],
          "name": "stdout"
        },
        {
          "output_type": "execute_result",
          "data": {
            "text/plain": [
              ""
            ]
          },
          "metadata": {},
          "execution_count": 169
        }
      ]
    },
    {
      "cell_type": "code",
      "metadata": {
        "id": "rRx3NhutRn22"
      },
      "source": [
        ""
      ],
      "execution_count": null,
      "outputs": []
    },
    {
      "cell_type": "markdown",
      "metadata": {
        "id": "dzfEM0an_Jl9"
      },
      "source": [
        "**resource:**\n",
        "\n",
        "https://stackoverflow.com/questions/55861340/how-to-fix-attributeerror-unknown-property-figsize\n",
        "\n",
        "https://stackoverflow.com/questions/16006572/plotting-different-colors-in-matplotlib\n",
        "\n"
      ]
    }
  ]
}